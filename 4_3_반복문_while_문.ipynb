{
  "nbformat": 4,
  "nbformat_minor": 0,
  "metadata": {
    "colab": {
      "provenance": [],
      "include_colab_link": true
    },
    "kernelspec": {
      "name": "python3",
      "display_name": "Python 3"
    },
    "language_info": {
      "name": "python"
    }
  },
  "cells": [
    {
      "cell_type": "markdown",
      "metadata": {
        "id": "view-in-github",
        "colab_type": "text"
      },
      "source": [
        "<a href=\"https://colab.research.google.com/github/KHYUN28/SkillTreePython/blob/main/4_3_%EB%B0%98%EB%B3%B5%EB%AC%B8_while_%EB%AC%B8.ipynb\" target=\"_parent\"><img src=\"https://colab.research.google.com/assets/colab-badge.svg\" alt=\"Open In Colab\"/></a>"
      ]
    },
    {
      "cell_type": "markdown",
      "source": [
        "# 4-3. 반복문 : while 문\n",
        "---\n",
        "* 날짜: 2023.01.04\n",
        "* 이름: 김규현"
      ],
      "metadata": {
        "id": "kB5IciXEm6o4"
      }
    },
    {
      "cell_type": "markdown",
      "source": [
        "## 개념정리\n",
        "---\n",
        "\n",
        "또 다른 반복문인 whlie문은 for문과 동일하게 특정 코드를 반복해서 진행합니다. 그렇지만 for문과 달리 반복문 내에 반복되는 특정 변수가 없으며 필요시 직접 입력해주어야 합니다.\n"
      ],
      "metadata": {
        "id": "4iN8NFzHRJ2D"
      }
    },
    {
      "cell_type": "markdown",
      "source": [
        "### **(1) 기본 사용**\n",
        "\n",
        "while문의 기본 구조는 아래와 같습니다.\n",
        "\n",
        "\n",
        "\n",
        "```\n",
        "while <조건문>:\n",
        "  <반복되는 코드>\n",
        "  ...\n",
        "```\n",
        "\n",
        "조건문은 항상 bool 형태, 즉 True 혹은 False임을 유의하세요. while은 조건문이 True인 동안 계속해서 반복됩니다. <조건문> 자리에 a가 5보다 작다는 조건을 입력해봅시다. 반복문이 시작할 때 a가 0이기 때문에 a<5라는 조건은 `True` 가 됩니다. 조건문이 `True`인 동안 a는 1씩 증가하다가 a가 5 이상이 되는 순간 조건문은 `False`가 되며 반복문이 종료됩니다.\n",
        "\n",
        "```\n",
        "a=0\n",
        "while a<5:\n",
        "  print(a)\n",
        "  a+=1\n",
        "```\n"
      ],
      "metadata": {
        "id": "MAM8MDnfw68b"
      }
    },
    {
      "cell_type": "code",
      "source": [
        "a=0\n",
        "while a<5: # 조건이 반복할때만 및에 코드가 반복\n",
        "  print(a)\n",
        "  a+=1 # 5이상이 되면 더이상 반복하지 않음"
      ],
      "metadata": {
        "id": "KfFYVIbwR-HW",
        "outputId": "18f1d532-cb42-4ec7-cddd-79a8010ea7e1",
        "colab": {
          "base_uri": "https://localhost:8080/"
        }
      },
      "execution_count": 1,
      "outputs": [
        {
          "output_type": "stream",
          "name": "stdout",
          "text": [
            "0\n",
            "1\n",
            "2\n",
            "3\n",
            "4\n"
          ]
        }
      ]
    },
    {
      "cell_type": "markdown",
      "source": [
        "#### **무한루프**\n",
        "\n",
        "이번에는 <조건문> 자리에 직접 `True` 를 입력하겠습니다. 이렇게 되면 반복문의 조건문이 항상 `True`인 상태기 때문에 다른 조건을 코드 아래에 추가해 주지 않으면 무한루프가 됩니다. (아래 코드는 무한 루프이기 때문에 굳이 실행해 보지 않아도 됩니다.)\n",
        "\n",
        "```\n",
        "a=0\n",
        "while True:\n",
        "  print(a)\n",
        "  a+=1\n",
        "```"
      ],
      "metadata": {
        "id": "cNbe3iQrSC04"
      }
    },
    {
      "cell_type": "code",
      "source": [
        "# 실행시 무한루프\n",
        "# a=0\n",
        "# while True: # a값에 상관없이 항상 반복\n",
        "#   print(a)\n",
        "#   a+=1"
      ],
      "metadata": {
        "id": "KKNOfRqJhkXv"
      },
      "execution_count": 2,
      "outputs": []
    },
    {
      "cell_type": "markdown",
      "source": [
        "### **(2) if문과 함께 쓰는 for문**\n",
        "\n",
        "무한이 코드가 돌아가지 않도록 해야 하기 때문에 보통 반복문 내에 이를 컨트롤 할 코드를 작성해 줍니다. \n"
      ],
      "metadata": {
        "id": "vQOdMT95SGNB"
      }
    },
    {
      "cell_type": "markdown",
      "source": [
        "\n",
        "#### **다음반복으로 건너뛰기**\n",
        "\n",
        "* `continue`\n",
        "\n",
        "만일 특정 조건에서 루프를 그대로 종료하는 것이 아니라 다음 루프로 넘어가고 싶다면 `continue`를 사용합니다.\n",
        "\n",
        "```\n",
        "a = 0\n",
        "while True:\n",
        "  print(a)\n",
        "  a+=1\n",
        "  if a==5: \n",
        "    continue\n",
        "  if a==10:\n",
        "    break\n",
        "```\n"
      ],
      "metadata": {
        "id": "LpWMyxcaSrjn"
      }
    },
    {
      "cell_type": "code",
      "source": [
        "a = 0\n",
        "while True:\n",
        "  print(a)\n",
        "  a+=1\n",
        "  if a==5: \n",
        "    continue\n",
        "  if a==10:\n",
        "    break"
      ],
      "metadata": {
        "id": "NdFATim3ScXv",
        "outputId": "bf19835f-b228-46ba-a4c1-cc26c340590a",
        "colab": {
          "base_uri": "https://localhost:8080/"
        }
      },
      "execution_count": 3,
      "outputs": [
        {
          "output_type": "stream",
          "name": "stdout",
          "text": [
            "0\n",
            "1\n",
            "2\n",
            "3\n",
            "4\n",
            "5\n",
            "6\n",
            "7\n",
            "8\n",
            "9\n"
          ]
        }
      ]
    },
    {
      "cell_type": "markdown",
      "source": [
        "#### **while문을 즉시 종료하기**  \n",
        "\n",
        "* `break`\n",
        "\n",
        "`for문` 안에서 `break` 을 만나면 즉시 `for문`이 종료됩니다. (모든 루프가 돌아가지 않았어도)\n",
        "\n",
        "```\n",
        "a=0\n",
        "while True:\n",
        "  print(a)\n",
        "  a+=1\n",
        "  if a==5:\n",
        "    break\n",
        "```\n"
      ],
      "metadata": {
        "id": "BWkOb_W7SZ-i"
      }
    },
    {
      "cell_type": "code",
      "source": [
        "a=0\n",
        "while True:\n",
        "  print(a)\n",
        "  a += 1\n",
        "  if a >= 5: # a가 5이상되면 즉시 종료\n",
        "    break"
      ],
      "metadata": {
        "id": "Vn8Fq0lTSByH",
        "outputId": "6edb357b-fbe7-48e7-c0de-90d220276bd7",
        "colab": {
          "base_uri": "https://localhost:8080/"
        }
      },
      "execution_count": 4,
      "outputs": [
        {
          "output_type": "stream",
          "name": "stdout",
          "text": [
            "0\n",
            "1\n",
            "2\n",
            "3\n",
            "4\n"
          ]
        }
      ]
    },
    {
      "cell_type": "markdown",
      "source": [
        "## 문제 풀이\n",
        "---"
      ],
      "metadata": {
        "id": "vWphXr9jTAsO"
      }
    },
    {
      "cell_type": "markdown",
      "source": [
        "\n",
        "**예제 01**\n",
        "\n",
        "for문으로 작성한 코드와 똑같은 결과가 나오도록 while문으로 작성하세요\n",
        "\n",
        "```\n",
        "for i in range(3, 10):\n",
        "  print(i)\n",
        "```"
      ],
      "metadata": {
        "id": "u98zs4LITAyC"
      }
    },
    {
      "cell_type": "code",
      "source": [
        "a = 3\n",
        "while a < 10:\n",
        "  print(a, end = \" \")\n",
        "  a += 1"
      ],
      "metadata": {
        "id": "IiaxggF-TEit",
        "outputId": "c7b043a8-c509-49d8-f332-547b498b3f10",
        "colab": {
          "base_uri": "https://localhost:8080/"
        }
      },
      "execution_count": 5,
      "outputs": [
        {
          "output_type": "stream",
          "name": "stdout",
          "text": [
            "3 4 5 6 7 8 9 "
          ]
        }
      ]
    },
    {
      "cell_type": "markdown",
      "source": [
        "**예제 02**\n",
        "\n",
        "for문으로 작성한 코드와 똑같은 결과가 나오도록 while문으로 작성하세요\n",
        "\n",
        "```\n",
        "for i in range(1, 101, 5):\n",
        "  print(i)\n",
        "```"
      ],
      "metadata": {
        "id": "vDB4GsJGVB2N"
      }
    },
    {
      "cell_type": "code",
      "source": [
        "a = 1\n",
        "while a < 97:\n",
        "  print(a, end = \" \")\n",
        "  a += 5"
      ],
      "metadata": {
        "id": "tuRSlqbTVCEp",
        "outputId": "db5c11c9-9380-4442-fc34-82cd4b8810a6",
        "colab": {
          "base_uri": "https://localhost:8080/"
        }
      },
      "execution_count": 6,
      "outputs": [
        {
          "output_type": "stream",
          "name": "stdout",
          "text": [
            "1 6 11 16 21 26 31 36 41 46 51 56 61 66 71 76 81 86 91 96 "
          ]
        }
      ]
    },
    {
      "cell_type": "markdown",
      "source": [
        "**예제 03**\n",
        "\n",
        "for문으로 작성한 코드와 똑같은 결과가 나오도록 while문으로 작성하세요\n",
        "\n",
        "```\n",
        "for i in range(100):\n",
        "  if i%2==0:\n",
        "    print(i,\"짝수\")\n",
        "  if i==80: break\n",
        "```\n"
      ],
      "metadata": {
        "id": "4EyLkoMQVDkW"
      }
    },
    {
      "cell_type": "code",
      "source": [
        "a = 0\n",
        "while a < 100:\n",
        "  if a % 2 == 0:\n",
        "    print(a, '짝수', end = \" \")\n",
        "  a += 1\n"
      ],
      "metadata": {
        "id": "EKLgXaeJ1S-p",
        "outputId": "aceed66f-2b41-4cc1-94ca-d2c6585d7e98",
        "colab": {
          "base_uri": "https://localhost:8080/"
        }
      },
      "execution_count": 7,
      "outputs": [
        {
          "output_type": "stream",
          "name": "stdout",
          "text": [
            "0 짝수 2 짝수 4 짝수 6 짝수 8 짝수 10 짝수 12 짝수 14 짝수 16 짝수 18 짝수 20 짝수 22 짝수 24 짝수 26 짝수 28 짝수 30 짝수 32 짝수 34 짝수 36 짝수 38 짝수 40 짝수 42 짝수 44 짝수 46 짝수 48 짝수 50 짝수 52 짝수 54 짝수 56 짝수 58 짝수 60 짝수 62 짝수 64 짝수 66 짝수 68 짝수 70 짝수 72 짝수 74 짝수 76 짝수 78 짝수 80 짝수 82 짝수 84 짝수 86 짝수 88 짝수 90 짝수 92 짝수 94 짝수 96 짝수 98 짝수 "
          ]
        }
      ]
    },
    {
      "cell_type": "markdown",
      "source": [
        "**예제 04**\n",
        "\n",
        "while 문을 이용해 1에서 100까지 짝수만 출력하세요\n"
      ],
      "metadata": {
        "id": "V4L7t5KMVEgg"
      }
    },
    {
      "cell_type": "code",
      "source": [
        "a = 1\n",
        "while a <= 100:\n",
        "  if a % 2 == 0:\n",
        "    print(a, end = \" \")\n",
        "  a += 1"
      ],
      "metadata": {
        "id": "WgRyD8Gd0Ocq",
        "outputId": "8295b11e-dad3-4362-8de2-13554991120d",
        "colab": {
          "base_uri": "https://localhost:8080/"
        }
      },
      "execution_count": 8,
      "outputs": [
        {
          "output_type": "stream",
          "name": "stdout",
          "text": [
            "2 4 6 8 10 12 14 16 18 20 22 24 26 28 30 32 34 36 38 40 42 44 46 48 50 52 54 56 58 60 62 64 66 68 70 72 74 76 78 80 82 84 86 88 90 92 94 96 98 100 "
          ]
        }
      ]
    },
    {
      "cell_type": "markdown",
      "source": [
        "**예제 05**\n",
        "\n",
        "while 문을 이용해 1에서 100까지 홀수만 더한 값을 구하세요"
      ],
      "metadata": {
        "id": "1q-kYwVQVFhn"
      }
    },
    {
      "cell_type": "code",
      "source": [
        "a = 1\n",
        "odd = 0\n",
        "\n",
        "while a <= 100:\n",
        "    if a % 2 != 0:\n",
        "      pass\n",
        "    else:\n",
        "      odd += a\n",
        "    a += 1\n",
        "\n",
        "print(odd)"
      ],
      "metadata": {
        "id": "tltlEtWy6QJ-",
        "outputId": "160fe08a-a375-48c4-aaec-e0fd01e6da9b",
        "colab": {
          "base_uri": "https://localhost:8080/"
        }
      },
      "execution_count": 9,
      "outputs": [
        {
          "output_type": "stream",
          "name": "stdout",
          "text": [
            "2550\n"
          ]
        }
      ]
    },
    {
      "cell_type": "markdown",
      "source": [
        "**예제 06**\n",
        "\n",
        "while 문을 이용해 1에서 100까지 4와 3의 공배수들의 평균을 구하세요"
      ],
      "metadata": {
        "id": "wy_k3SAeVGqc"
      }
    },
    {
      "cell_type": "code",
      "source": [
        "a = 1\n",
        "n = []\n",
        "\n",
        "while a <= 100:\n",
        "  if a % 4 == 0 and a % 3 == 0:\n",
        "    n.append(a)\n",
        "  a += 1\n",
        "\n",
        "sum(n)/len(n)"
      ],
      "metadata": {
        "id": "grC1BOsQVHvI",
        "outputId": "57a9f9b4-af5e-41a4-b8ef-62246abfdfda",
        "colab": {
          "base_uri": "https://localhost:8080/"
        }
      },
      "execution_count": 17,
      "outputs": [
        {
          "output_type": "execute_result",
          "data": {
            "text/plain": [
              "54.0"
            ]
          },
          "metadata": {},
          "execution_count": 17
        }
      ]
    },
    {
      "cell_type": "markdown",
      "source": [
        "**예제 07**\n",
        "\n",
        "- while구문을 시작합니다.\n",
        "- `input()` 함수로 사용자의 입력을 계속 받습니다.\n",
        "- 사용자가 \"그만\" 이라고 입력하면 구문을 종료합니다."
      ],
      "metadata": {
        "id": "dfQJicrVVH6N"
      }
    },
    {
      "cell_type": "code",
      "source": [
        "while (1):\n",
        "  print('그만해~ 이러다~ 다죽어~!!')\n",
        "  n = input()\n",
        "  if n == '그만': break  "
      ],
      "metadata": {
        "id": "xkDot5aP7rId",
        "outputId": "3292de9e-02c5-4954-834f-b92b004d0329",
        "colab": {
          "base_uri": "https://localhost:8080/"
        }
      },
      "execution_count": 11,
      "outputs": [
        {
          "name": "stdout",
          "output_type": "stream",
          "text": [
            "그만해~ 이러다~ 다죽어~!!\n",
            "아니\n",
            "그만해~ 이러다~ 다죽어~!!\n",
            "싫어\n",
            "그만해~ 이러다~ 다죽어~!!\n",
            "그만\n"
          ]
        }
      ]
    },
    {
      "cell_type": "markdown",
      "source": [
        "**예제 08**\n",
        "\n",
        "while문을 이용해 아래 결과를 내는 함수 `bomb()` 를 작성하세요. 음수가 입력될 경우 다른 에러메시지를 출력하세요.\n",
        "\n",
        "\n",
        "```\n",
        ">> bomb() \n",
        "Enter timer: 6  \n",
        "befor 6 sec.  \n",
        "befor 5 sec.  \n",
        "befor 4 sec.  \n",
        "befor 3 sec.  \n",
        "befor 2 sec.  \n",
        "befor 1 sec.  \n",
        "BOMB!  \n",
        "```"
      ],
      "metadata": {
        "id": "hF9slbhOVJKw"
      }
    },
    {
      "cell_type": "code",
      "source": [
        "def bomb():\n",
        "  n = int(input('Enter timer: '))\n",
        "  while n:\n",
        "    if n > 0:\n",
        "      n -= 1\n",
        "      print(f'befor {n} sec.')\n",
        "      if n == 0:\n",
        "        print('BOMB!')\n",
        "    else:\n",
        "      print('!!ERROR!!')\n",
        "      break\n",
        "\n",
        "bomb()"
      ],
      "metadata": {
        "id": "7SEfCpsTVMio",
        "outputId": "e05bb103-ad39-45c1-e214-89cd53a1b2ae",
        "colab": {
          "base_uri": "https://localhost:8080/"
        }
      },
      "execution_count": 12,
      "outputs": [
        {
          "output_type": "stream",
          "name": "stdout",
          "text": [
            "Enter timer: 6\n",
            "befor 5 sec.\n",
            "befor 4 sec.\n",
            "befor 3 sec.\n",
            "befor 2 sec.\n",
            "befor 1 sec.\n",
            "befor 0 sec.\n",
            "BOMB!\n"
          ]
        }
      ]
    },
    {
      "cell_type": "markdown",
      "source": [
        "**예제 09**\n",
        "\n",
        "연이자율이 8%인 예금통장에 길동이는 올해 1월 1000만원을 예금했습니다. 이 돈이 1500만원을 넘기는 시점은 몇년뒤 인지 while문을 이용해서 구하세요\n"
      ],
      "metadata": {
        "id": "c1v9VLOHVN0t"
      }
    },
    {
      "cell_type": "code",
      "source": [
        "n = 10000000\n",
        "d_day = 1\n",
        "while True :\n",
        "  n = n * 1.08\n",
        "  if n > 15000000:\n",
        "    print(f'{d_day}년 뒤')\n",
        "    break\n",
        "  d_day += 1"
      ],
      "metadata": {
        "id": "Me8E8AVAVOoR",
        "outputId": "959b0da9-d1c0-46bb-a268-cc5d95f8b0f3",
        "colab": {
          "base_uri": "https://localhost:8080/"
        }
      },
      "execution_count": 13,
      "outputs": [
        {
          "output_type": "stream",
          "name": "stdout",
          "text": [
            "6년 뒤\n"
          ]
        }
      ]
    },
    {
      "cell_type": "markdown",
      "source": [
        "**예제 10**\n",
        "\n",
        "- while 문을 이용해 1부터 100까지 값을 출력합니다.\n",
        "- 만약 출력값이 짝수면 `list_even`, 홀수면 `list_odd`, 5의 배수면 `list_5`\n",
        "- `list_even, list_odd, list_5`는 리스트이며 중복가능하게 각 리스트에 숫자를 넣습니다.\n"
      ],
      "metadata": {
        "id": "ITHlcSQZVOsm"
      }
    },
    {
      "cell_type": "code",
      "source": [
        "list_even = []\n",
        "list_odd = []\n",
        "list_5 = []\n",
        "\n",
        "n = 1\n",
        "\n",
        "while n <= 100:\n",
        "  if n % 2 == 0:\n",
        "    list_even.append(n)\n",
        "  if n % 2 != 0:\n",
        "   list_odd.append(n)\n",
        "  if n % 5 == 0:\n",
        "    list_5.append(n)\n",
        "  n += 1\n",
        "\n",
        "print(f'list_even = {list_even}')\n",
        "print(f'list_odd = {list_odd}')\n",
        "print(f'list_5 = {list_5}')"
      ],
      "metadata": {
        "id": "Dxp71crMVYkm",
        "outputId": "d228703b-cc17-44d2-b123-2a6bc830a4fa",
        "colab": {
          "base_uri": "https://localhost:8080/"
        }
      },
      "execution_count": 14,
      "outputs": [
        {
          "output_type": "stream",
          "name": "stdout",
          "text": [
            "list_even = [2, 4, 6, 8, 10, 12, 14, 16, 18, 20, 22, 24, 26, 28, 30, 32, 34, 36, 38, 40, 42, 44, 46, 48, 50, 52, 54, 56, 58, 60, 62, 64, 66, 68, 70, 72, 74, 76, 78, 80, 82, 84, 86, 88, 90, 92, 94, 96, 98, 100]\n",
            "list_odd = [1, 3, 5, 7, 9, 11, 13, 15, 17, 19, 21, 23, 25, 27, 29, 31, 33, 35, 37, 39, 41, 43, 45, 47, 49, 51, 53, 55, 57, 59, 61, 63, 65, 67, 69, 71, 73, 75, 77, 79, 81, 83, 85, 87, 89, 91, 93, 95, 97, 99]\n",
            "list_5 = [5, 10, 15, 20, 25, 30, 35, 40, 45, 50, 55, 60, 65, 70, 75, 80, 85, 90, 95, 100]\n"
          ]
        }
      ]
    }
  ]
}